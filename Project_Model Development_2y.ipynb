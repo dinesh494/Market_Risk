{
 "cells": [
  {
   "cell_type": "markdown",
   "id": "78a25a3e-8306-4913-b346-28c14dc63a2b",
   "metadata": {},
   "source": [
    "## Fixed-Income Pricing Model Delovpment And Validation \n",
    "\n",
    "### Pricing Model: DCF | Asset Class: Fixed Income | Finacial Product: US Treasury Bond"
   ]
  },
  {
   "cell_type": "markdown",
   "id": "6964c657-7583-44ba-a7e2-c712c009b16c",
   "metadata": {},
   "source": [
    "#### Import Liabaries"
   ]
  },
  {
   "cell_type": "code",
   "execution_count": 3,
   "id": "bfbb0c90-6086-49fd-b8fa-360fac91b5b4",
   "metadata": {},
   "outputs": [],
   "source": [
    "import pandas as pd\n",
    "import numpy as np\n",
    "from scipy import interpolate\n",
    "import matplotlib.pyplot as plt\n",
    "from datetime import date, timedelta"
   ]
  },
  {
   "cell_type": "code",
   "execution_count": 5,
   "id": "4a40a305-41ad-4ffb-aa24-7c49039355cb",
   "metadata": {},
   "outputs": [],
   "source": [
    "dayCountMapping = {'1 Mo': 30, '2 Mo': 60, '3 Mo': 90, '4 Mo': 120, '6 Mo': 180, '1 Yr': 360, \n",
    "                   '2 Yr': 720, '3 Yr': 1080, '5 Yr': 1800, '7 Yr': 2520, '10 Yr': 3600, '20 Yr': 7200, '30 Yr': 10800}"
   ]
  },
  {
   "cell_type": "markdown",
   "id": "1e35e530-b5b2-4699-a935-9613acbea713",
   "metadata": {},
   "source": [
    "#### Instrument Trade Data"
   ]
  },
  {
   "cell_type": "code",
   "execution_count": 7,
   "id": "41f8fbf7-0e8e-413e-a79a-b0db7a51213b",
   "metadata": {},
   "outputs": [],
   "source": [
    "trade_data = pd.read_csv(\"C:\\\\Users\\\\dines\\\\Desktop\\\\Market Risk Project\\\\2Y US Treasury Note_91282CKB6\\\\TREASURY AUCTION RESULTS for 91282CKB6.csv\",index_col=\"CUSIP\")"
   ]
  },
  {
   "cell_type": "code",
   "execution_count": 9,
   "id": "517f234b-31a1-4203-9963-fb0aa68eff52",
   "metadata": {},
   "outputs": [
    {
     "data": {
      "text/html": [
       "<div>\n",
       "<style scoped>\n",
       "    .dataframe tbody tr th:only-of-type {\n",
       "        vertical-align: middle;\n",
       "    }\n",
       "\n",
       "    .dataframe tbody tr th {\n",
       "        vertical-align: top;\n",
       "    }\n",
       "\n",
       "    .dataframe thead th {\n",
       "        text-align: right;\n",
       "    }\n",
       "</style>\n",
       "<table border=\"1\" class=\"dataframe\">\n",
       "  <thead>\n",
       "    <tr style=\"text-align: right;\">\n",
       "      <th></th>\n",
       "      <th>Security Type</th>\n",
       "      <th>Security Term</th>\n",
       "      <th>Auction Date</th>\n",
       "      <th>Issue Date</th>\n",
       "      <th>Maturity Date</th>\n",
       "      <th>Price per $100</th>\n",
       "    </tr>\n",
       "    <tr>\n",
       "      <th>CUSIP</th>\n",
       "      <th></th>\n",
       "      <th></th>\n",
       "      <th></th>\n",
       "      <th></th>\n",
       "      <th></th>\n",
       "      <th></th>\n",
       "    </tr>\n",
       "  </thead>\n",
       "  <tbody>\n",
       "    <tr>\n",
       "      <th>91282CKB6</th>\n",
       "      <td>Note</td>\n",
       "      <td>2-Year</td>\n",
       "      <td>02/26/2024</td>\n",
       "      <td>02/29/2024</td>\n",
       "      <td>02/28/2026</td>\n",
       "      <td>99.875391</td>\n",
       "    </tr>\n",
       "  </tbody>\n",
       "</table>\n",
       "</div>"
      ],
      "text/plain": [
       "          Security Type Security Term Auction Date  Issue Date Maturity Date  \\\n",
       "CUSIP                                                                          \n",
       "91282CKB6          Note        2-Year   02/26/2024  02/29/2024    02/28/2026   \n",
       "\n",
       "           Price per $100  \n",
       "CUSIP                      \n",
       "91282CKB6       99.875391  "
      ]
     },
     "execution_count": 9,
     "metadata": {},
     "output_type": "execute_result"
    }
   ],
   "source": [
    "trade_data"
   ]
  },
  {
   "cell_type": "markdown",
   "id": "db628132-116c-4f1b-bf46-306e5936fea3",
   "metadata": {},
   "source": [
    "#### Insturment Features"
   ]
  },
  {
   "cell_type": "code",
   "execution_count": 11,
   "id": "18e0a24c-6d93-427e-bc98-9fea80fb6c38",
   "metadata": {},
   "outputs": [],
   "source": [
    "faceValue = 100\n",
    "cuponRate = 0.04625\n",
    "maturityPeriod = 2\n",
    "frequency = 2\n",
    "auctionDate = pd.to_datetime(trade_data['Auction Date'].values[-1]).date()\n",
    "issueDate = pd.to_datetime(trade_data['Issue Date'].values[-1]).date()\n",
    "maturityDate = pd.to_datetime(trade_data['Maturity Date'].values[-1]).date()\n",
    "issuePrice = trade_data['Price per $100'].values[-1]"
   ]
  },
  {
   "cell_type": "code",
   "execution_count": 13,
   "id": "32e31f01-9841-4daa-85e2-48e0986a0c0d",
   "metadata": {},
   "outputs": [],
   "source": [
    "valuationDate = auctionDate"
   ]
  },
  {
   "cell_type": "code",
   "execution_count": 17,
   "id": "140b003f-0718-4c72-8d42-c4efa7d38690",
   "metadata": {},
   "outputs": [
    {
     "data": {
      "text/plain": [
       "datetime.date(2024, 2, 29)"
      ]
     },
     "execution_count": 17,
     "metadata": {},
     "output_type": "execute_result"
    }
   ],
   "source": [
    "issueDate"
   ]
  },
  {
   "cell_type": "markdown",
   "id": "f8cffb98-67fc-4b34-b7fd-5b75118cb482",
   "metadata": {},
   "source": [
    "#### Coupon Dates"
   ]
  },
  {
   "cell_type": "code",
   "execution_count": 21,
   "id": "39116853-40df-450b-8519-5555734c04a9",
   "metadata": {},
   "outputs": [
    {
     "name": "stdout",
     "output_type": "stream",
     "text": [
      "[datetime.date(2024, 8, 29), datetime.date(2025, 2, 28), datetime.date(2024, 8, 29), datetime.date(2025, 2, 28)]\n"
     ]
    }
   ],
   "source": [
    "Y, M, D = issueDate.year, issueDate.month, issueDate.day\n",
    "\n",
    "cuponDates = []\n",
    "for i in range(1,(maturityPeriod*frequency) + 1):\n",
    "    try:\n",
    "        if i % 2 != 0:\n",
    "            cuponDates.append(date(Y, M+6, D))\n",
    "        else:\n",
    "            cuponDates.append(date(Y+1, M, D))\n",
    "    except ValueError:\n",
    "        cuponDates.append(date(Y+1,M,D-1))\n",
    "print(cuponDates)"
   ]
  },
  {
   "cell_type": "code",
   "execution_count": 23,
   "id": "6bb47ec6-88dc-4fe4-bfa4-8e8c308e034f",
   "metadata": {},
   "outputs": [
    {
     "name": "stdout",
     "output_type": "stream",
     "text": [
      "[180, 360, 540, 720]\n"
     ]
    }
   ],
   "source": [
    "cuponDays = [180 * i for i in range(1,(maturityPeriod*frequency) + 1)]\n",
    "print(cuponDays)"
   ]
  },
  {
   "cell_type": "markdown",
   "id": "88cdb785-9382-4b73-9566-93efed98ea3e",
   "metadata": {},
   "source": [
    "## Market Data Preparation"
   ]
  },
  {
   "cell_type": "markdown",
   "id": "e24155e9-435a-472a-a7ec-56584c9b1fe7",
   "metadata": {},
   "source": [
    "#### Intrest Rate"
   ]
  },
  {
   "cell_type": "code",
   "execution_count": 25,
   "id": "2c5b4be5-0648-408f-af37-25760e4f23e2",
   "metadata": {},
   "outputs": [],
   "source": [
    "class InterestRates:\n",
    "\n",
    "    def __init__(self, Y):\n",
    "        self.Y = Y\n",
    "\n",
    "    def USTreasury(self, ratesCurve=False, COBDate=None):\n",
    "        USTreasuryData = pd.read_csv(f'https://home.treasury.gov/resource-center/data-chart-center/interest-rates/daily-treasury-rates.csv/{self.Y}/all?type=daily_treasury_yield_curve&field_tdr_date_value={self.Y}&page&_format=csv', index_col='Date').iloc[::-1]  \n",
    "        USTreasuryData.index = pd.to_datetime(USTreasuryData.index)\n",
    "        \n",
    "        if ratesCurve == True:\n",
    "            if COBDate == None:\n",
    "                return USTreasuryData[USTreasuryData.index == USTreasuryData.index.max()]\n",
    "            else:\n",
    "                return USTreasuryData[USTreasuryData.index == COBDate]\n",
    "        else:\n",
    "            return USTreasuryData"
   ]
  },
  {
   "cell_type": "code",
   "execution_count": 27,
   "id": "11339f4b-7193-4951-9dfd-25463ea00d1d",
   "metadata": {},
   "outputs": [],
   "source": [
    "spotRates = InterestRates(Y=valuationDate.year).USTreasury(ratesCurve=True, COBDate=pd.to_datetime(valuationDate))\n",
    "spotRates = pd.DataFrame(data=spotRates.values, index=spotRates.index, columns=dayCountMapping.values())"
   ]
  },
  {
   "cell_type": "code",
   "execution_count": 28,
   "id": "78c47b77-5a82-4b53-8449-c77bb016bba2",
   "metadata": {},
   "outputs": [
    {
     "data": {
      "text/html": [
       "<div>\n",
       "<style scoped>\n",
       "    .dataframe tbody tr th:only-of-type {\n",
       "        vertical-align: middle;\n",
       "    }\n",
       "\n",
       "    .dataframe tbody tr th {\n",
       "        vertical-align: top;\n",
       "    }\n",
       "\n",
       "    .dataframe thead th {\n",
       "        text-align: right;\n",
       "    }\n",
       "</style>\n",
       "<table border=\"1\" class=\"dataframe\">\n",
       "  <thead>\n",
       "    <tr style=\"text-align: right;\">\n",
       "      <th></th>\n",
       "      <th>30</th>\n",
       "      <th>60</th>\n",
       "      <th>90</th>\n",
       "      <th>120</th>\n",
       "      <th>180</th>\n",
       "      <th>360</th>\n",
       "      <th>720</th>\n",
       "      <th>1080</th>\n",
       "      <th>1800</th>\n",
       "      <th>2520</th>\n",
       "      <th>3600</th>\n",
       "      <th>7200</th>\n",
       "      <th>10800</th>\n",
       "    </tr>\n",
       "    <tr>\n",
       "      <th>Date</th>\n",
       "      <th></th>\n",
       "      <th></th>\n",
       "      <th></th>\n",
       "      <th></th>\n",
       "      <th></th>\n",
       "      <th></th>\n",
       "      <th></th>\n",
       "      <th></th>\n",
       "      <th></th>\n",
       "      <th></th>\n",
       "      <th></th>\n",
       "      <th></th>\n",
       "      <th></th>\n",
       "    </tr>\n",
       "  </thead>\n",
       "  <tbody>\n",
       "    <tr>\n",
       "      <th>2024-02-26</th>\n",
       "      <td>5.5</td>\n",
       "      <td>5.52</td>\n",
       "      <td>5.47</td>\n",
       "      <td>5.47</td>\n",
       "      <td>5.34</td>\n",
       "      <td>5.03</td>\n",
       "      <td>4.69</td>\n",
       "      <td>4.48</td>\n",
       "      <td>4.29</td>\n",
       "      <td>4.32</td>\n",
       "      <td>4.28</td>\n",
       "      <td>4.53</td>\n",
       "      <td>4.4</td>\n",
       "    </tr>\n",
       "  </tbody>\n",
       "</table>\n",
       "</div>"
      ],
      "text/plain": [
       "            30     60     90     120    180    360    720    1080   1800   \\\n",
       "Date                                                                        \n",
       "2024-02-26    5.5   5.52   5.47   5.47   5.34   5.03   4.69   4.48   4.29   \n",
       "\n",
       "            2520   3600   7200   10800  \n",
       "Date                                    \n",
       "2024-02-26   4.32   4.28   4.53    4.4  "
      ]
     },
     "execution_count": 28,
     "metadata": {},
     "output_type": "execute_result"
    }
   ],
   "source": [
    "spotRates"
   ]
  },
  {
   "cell_type": "markdown",
   "id": "00bf00fc-7784-47ab-aaa3-04575031753a",
   "metadata": {},
   "source": [
    "####  Interst Rate Determination"
   ]
  },
  {
   "cell_type": "code",
   "execution_count": 31,
   "id": "79c6cc06-23ec-4042-9ce3-c5b037141dea",
   "metadata": {},
   "outputs": [
    {
     "name": "stdout",
     "output_type": "stream",
     "text": [
      "Index([0.08333333333333333, 0.16666666666666666,                0.25,\n",
      "        0.3333333333333333,                 0.5,                 1.0,\n",
      "                       2.0,                 3.0,                 5.0,\n",
      "                       7.0,                10.0,                20.0,\n",
      "                      30.0],\n",
      "      dtype='float64') [0.055  0.0552 0.0547 0.0547 0.0534 0.0503 0.0469 0.0448 0.0429 0.0432\n",
      " 0.0428 0.0453 0.044 ]\n"
     ]
    }
   ],
   "source": [
    "tenors , interestRates = spotRates.columns/360 , spotRates.values[0]/100\n",
    "print(tenors, interestRates)"
   ]
  },
  {
   "cell_type": "code",
   "execution_count": 33,
   "id": "c3a7bbf4-729e-4c97-b624-4589b54d18fa",
   "metadata": {},
   "outputs": [
    {
     "name": "stdout",
     "output_type": "stream",
     "text": [
      "[0.0534     0.0503     0.04842681 0.0469    ]\n"
     ]
    }
   ],
   "source": [
    "interpfunction = interpolate.CubicSpline(x= tenors, y= interestRates)\n",
    "tenorsInterp = [t/360 for t in cuponDays]\n",
    "interpolatedRates = interpfunction(tenorsInterp)\n",
    "print(interpolatedRates)"
   ]
  },
  {
   "cell_type": "markdown",
   "id": "7c28d974-15ea-4b73-99e4-8ca8dc1e2589",
   "metadata": {},
   "source": [
    "### Pricing Model"
   ]
  },
  {
   "cell_type": "markdown",
   "id": "ecba9f93-3df3-436d-a594-11e3ca66f725",
   "metadata": {},
   "source": [
    "#### Discount Cashflow (DCF) Approach"
   ]
  },
  {
   "cell_type": "code",
   "execution_count": 35,
   "id": "d4779473-e01b-42a2-825a-92a2fe087d35",
   "metadata": {},
   "outputs": [
    {
     "name": "stdout",
     "output_type": "stream",
     "text": [
      "[2.3125, 2.3125, 2.3125, 102.3125]\n"
     ]
    }
   ],
   "source": [
    "futurevalueCF = [faceValue*(cuponRate/frequency) for t in range(1,(maturityPeriod*frequency)+1)]\n",
    "futurevalueCF[-1] += faceValue\n",
    "print(futurevalueCF)"
   ]
  },
  {
   "cell_type": "code",
   "execution_count": 37,
   "id": "1755c15f-b611-4a4a-b286-aa26d5fa3ec8",
   "metadata": {},
   "outputs": [
    {
     "name": "stdout",
     "output_type": "stream",
     "text": [
      "[0.05411288999999986, 0.05093252249999991, 0.04901309396537723, 0.04744990249999992]\n"
     ]
    }
   ],
   "source": [
    "annualizedRate = [(1+i/frequency)**frequency -1 for i in interpolatedRates]\n",
    "print(annualizedRate)"
   ]
  },
  {
   "cell_type": "code",
   "execution_count": 39,
   "id": "a3d66a21-2a33-4e9e-b2e3-16000be50259",
   "metadata": {},
   "outputs": [
    {
     "name": "stdout",
     "output_type": "stream",
     "text": [
      "99.8579894471851 [2.2523619363007694, 2.2004267167400373, 2.1523375259258706, 93.25286326821842]\n"
     ]
    }
   ],
   "source": [
    "presentValueCF = [futurevalueCF[i]/(1+interpolatedRates[i]/frequency) ** (i+1) for i in range(maturityPeriod*frequency)]\n",
    "bondPrice = sum(presentValueCF)\n",
    "print(bondPrice,presentValueCF)"
   ]
  },
  {
   "cell_type": "markdown",
   "id": "16403df2-fe46-46a9-8dc8-6c61c61be5f0",
   "metadata": {},
   "source": [
    "#### Model Error"
   ]
  },
  {
   "cell_type": "code",
   "execution_count": 41,
   "id": "11109d68-cc84-423f-addb-baaa9b8e9807",
   "metadata": {},
   "outputs": [
    {
     "name": "stdout",
     "output_type": "stream",
     "text": [
      "Model Price: 99.8579894471851\n",
      "Market Price: 99.875391\n",
      "Price Difference: -0.0174\n"
     ]
    }
   ],
   "source": [
    "print('Model Price:',bondPrice)\n",
    "print('Market Price:',issuePrice)\n",
    "\n",
    "priceDiff = bondPrice-issuePrice\n",
    "print('Price Difference:', round(priceDiff,4))"
   ]
  },
  {
   "cell_type": "code",
   "execution_count": 46,
   "id": "74020865-d254-4444-9f8e-f8f647dbb3c2",
   "metadata": {},
   "outputs": [],
   "source": [
    "pricingResult =pd.Series({\"Model Price\":bondPrice,\"Issue Price\":issuePrice,\"Price Difference\":priceDiff})"
   ]
  },
  {
   "cell_type": "code",
   "execution_count": 48,
   "id": "0258f2d4-4784-477b-b438-9b821ab71e91",
   "metadata": {},
   "outputs": [],
   "source": [
    "pricingResult.to_csv(\"C:\\\\Users\\\\dines\\\\Desktop\\\\Market Risk Project\\\\2Y US Treasury Note_91282CKB6\\\\Pricing RESULTS for 91282CKB6.csv\")"
   ]
  }
 ],
 "metadata": {
  "kernelspec": {
   "display_name": "Python [conda env:base] *",
   "language": "python",
   "name": "conda-base-py"
  },
  "language_info": {
   "codemirror_mode": {
    "name": "ipython",
    "version": 3
   },
   "file_extension": ".py",
   "mimetype": "text/x-python",
   "name": "python",
   "nbconvert_exporter": "python",
   "pygments_lexer": "ipython3",
   "version": "3.12.7"
  }
 },
 "nbformat": 4,
 "nbformat_minor": 5
}
