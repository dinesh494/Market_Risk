{
 "cells": [
  {
   "cell_type": "markdown",
   "id": "78a25a3e-8306-4913-b346-28c14dc63a2b",
   "metadata": {},
   "source": [
    "## Fixed-Income Pricing Model Delovpment And Validation \n",
    "\n",
    "### Pricing Model: DCF | Asset Class: Fixed Income | Finacial Product: US Treasury Bond"
   ]
  },
  {
   "cell_type": "markdown",
   "id": "6964c657-7583-44ba-a7e2-c712c009b16c",
   "metadata": {},
   "source": [
    "#### Import Liabaries"
   ]
  },
  {
   "cell_type": "code",
   "execution_count": 3,
   "id": "bfbb0c90-6086-49fd-b8fa-360fac91b5b4",
   "metadata": {},
   "outputs": [],
   "source": [
    "import pandas as pd\n",
    "import numpy as np\n",
    "from scipy import interpolate\n",
    "import matplotlib.pyplot as plt\n",
    "from datetime import date, timedelta"
   ]
  },
  {
   "cell_type": "code",
   "execution_count": 7,
   "id": "4a40a305-41ad-4ffb-aa24-7c49039355cb",
   "metadata": {},
   "outputs": [],
   "source": [
    "dayCountMapping = {'1 Mo': 30, '2 Mo': 60, '3 Mo': 90, '4 Mo': 120, '6 Mo': 180, '1 Yr': 360, \n",
    "                   '2 Yr': 720, '3 Yr': 1080, '5 Yr': 1800, '7 Yr': 2520, '10 Yr': 3600, '20 Yr': 7200, '30 Yr': 10800}"
   ]
  },
  {
   "cell_type": "markdown",
   "id": "1e35e530-b5b2-4699-a935-9613acbea713",
   "metadata": {},
   "source": [
    "#### Instrument Trade Data"
   ]
  },
  {
   "cell_type": "code",
   "execution_count": 69,
   "id": "51021274-4c50-485d-8913-9c2951d2d57f",
   "metadata": {},
   "outputs": [],
   "source": [
    "instrumentType = 'Bond'\n",
    "CUSIP = '912810TX6'"
   ]
  },
  {
   "cell_type": "code",
   "execution_count": 71,
   "id": "41f8fbf7-0e8e-413e-a79a-b0db7a51213b",
   "metadata": {},
   "outputs": [],
   "source": [
    "trade_data = pd.read_csv(fr\"C:\\Users\\dines\\Desktop\\Market Risk Project\\30Y US Treasury {instrumentType}_{CUSIP}\\Script {CUSIP}.csv\",index_col=\"CUSIP\")"
   ]
  },
  {
   "cell_type": "code",
   "execution_count": 12,
   "id": "517f234b-31a1-4203-9963-fb0aa68eff52",
   "metadata": {},
   "outputs": [
    {
     "data": {
      "text/html": [
       "<div>\n",
       "<style scoped>\n",
       "    .dataframe tbody tr th:only-of-type {\n",
       "        vertical-align: middle;\n",
       "    }\n",
       "\n",
       "    .dataframe tbody tr th {\n",
       "        vertical-align: top;\n",
       "    }\n",
       "\n",
       "    .dataframe thead th {\n",
       "        text-align: right;\n",
       "    }\n",
       "</style>\n",
       "<table border=\"1\" class=\"dataframe\">\n",
       "  <thead>\n",
       "    <tr style=\"text-align: right;\">\n",
       "      <th></th>\n",
       "      <th>Security Type</th>\n",
       "      <th>Security Term</th>\n",
       "      <th>Auction Date</th>\n",
       "      <th>Issue Date</th>\n",
       "      <th>Maturity Date</th>\n",
       "      <th>Price per $100</th>\n",
       "    </tr>\n",
       "    <tr>\n",
       "      <th>CUSIP</th>\n",
       "      <th></th>\n",
       "      <th></th>\n",
       "      <th></th>\n",
       "      <th></th>\n",
       "      <th></th>\n",
       "      <th></th>\n",
       "    </tr>\n",
       "  </thead>\n",
       "  <tbody>\n",
       "    <tr>\n",
       "      <th>912810TX6</th>\n",
       "      <td>Bond</td>\n",
       "      <td>29-Year 11-Month</td>\n",
       "      <td>03/13/2024</td>\n",
       "      <td>03/15/2024</td>\n",
       "      <td>02/15/2054</td>\n",
       "      <td>98.642640</td>\n",
       "    </tr>\n",
       "    <tr>\n",
       "      <th>912810TX6</th>\n",
       "      <td>Bond</td>\n",
       "      <td>30-Year</td>\n",
       "      <td>02/08/2024</td>\n",
       "      <td>02/15/2024</td>\n",
       "      <td>02/15/2054</td>\n",
       "      <td>98.168819</td>\n",
       "    </tr>\n",
       "  </tbody>\n",
       "</table>\n",
       "</div>"
      ],
      "text/plain": [
       "          Security Type     Security Term Auction Date  Issue Date  \\\n",
       "CUSIP                                                                \n",
       "912810TX6          Bond  29-Year 11-Month   03/13/2024  03/15/2024   \n",
       "912810TX6          Bond           30-Year   02/08/2024  02/15/2024   \n",
       "\n",
       "          Maturity Date  Price per $100  \n",
       "CUSIP                                    \n",
       "912810TX6    02/15/2054       98.642640  \n",
       "912810TX6    02/15/2054       98.168819  "
      ]
     },
     "execution_count": 12,
     "metadata": {},
     "output_type": "execute_result"
    }
   ],
   "source": [
    "trade_data"
   ]
  },
  {
   "cell_type": "markdown",
   "id": "db628132-116c-4f1b-bf46-306e5936fea3",
   "metadata": {},
   "source": [
    "#### Insturment Features"
   ]
  },
  {
   "cell_type": "code",
   "execution_count": 65,
   "id": "18e0a24c-6d93-427e-bc98-9fea80fb6c38",
   "metadata": {},
   "outputs": [],
   "source": [
    "CUSIP = trade_data.index[0]\n",
    "faceValue = 100\n",
    "cuponRate = 0.0425\n",
    "maturityPeriod = int(trade_data['Security Term'].values[-1].split(\"-\")[0])\n",
    "frequency = 2\n",
    "auctionDate = pd.to_datetime(trade_data['Auction Date'].values[-1]).date()\n",
    "issueDate = pd.to_datetime(trade_data['Issue Date'].values[-1]).date()\n",
    "maturityDate = pd.to_datetime(trade_data['Maturity Date'].values[-1]).date()\n",
    "issuePrice = trade_data['Price per $100'].values[-1]"
   ]
  },
  {
   "cell_type": "code",
   "execution_count": 16,
   "id": "32e31f01-9841-4daa-85e2-48e0986a0c0d",
   "metadata": {},
   "outputs": [],
   "source": [
    "valuationDate = auctionDate"
   ]
  },
  {
   "cell_type": "code",
   "execution_count": 18,
   "id": "140b003f-0718-4c72-8d42-c4efa7d38690",
   "metadata": {},
   "outputs": [
    {
     "data": {
      "text/plain": [
       "datetime.date(2024, 2, 15)"
      ]
     },
     "execution_count": 18,
     "metadata": {},
     "output_type": "execute_result"
    }
   ],
   "source": [
    "issueDate"
   ]
  },
  {
   "cell_type": "markdown",
   "id": "f8cffb98-67fc-4b34-b7fd-5b75118cb482",
   "metadata": {},
   "source": [
    "#### Coupon Dates"
   ]
  },
  {
   "cell_type": "code",
   "execution_count": 21,
   "id": "39116853-40df-450b-8519-5555734c04a9",
   "metadata": {},
   "outputs": [
    {
     "name": "stdout",
     "output_type": "stream",
     "text": [
      "[datetime.date(2024, 8, 15), datetime.date(2025, 2, 15), datetime.date(2024, 8, 15), datetime.date(2025, 2, 15), datetime.date(2024, 8, 15), datetime.date(2025, 2, 15), datetime.date(2024, 8, 15), datetime.date(2025, 2, 15), datetime.date(2024, 8, 15), datetime.date(2025, 2, 15), datetime.date(2024, 8, 15), datetime.date(2025, 2, 15), datetime.date(2024, 8, 15), datetime.date(2025, 2, 15), datetime.date(2024, 8, 15), datetime.date(2025, 2, 15), datetime.date(2024, 8, 15), datetime.date(2025, 2, 15), datetime.date(2024, 8, 15), datetime.date(2025, 2, 15), datetime.date(2024, 8, 15), datetime.date(2025, 2, 15), datetime.date(2024, 8, 15), datetime.date(2025, 2, 15), datetime.date(2024, 8, 15), datetime.date(2025, 2, 15), datetime.date(2024, 8, 15), datetime.date(2025, 2, 15), datetime.date(2024, 8, 15), datetime.date(2025, 2, 15), datetime.date(2024, 8, 15), datetime.date(2025, 2, 15), datetime.date(2024, 8, 15), datetime.date(2025, 2, 15), datetime.date(2024, 8, 15), datetime.date(2025, 2, 15), datetime.date(2024, 8, 15), datetime.date(2025, 2, 15), datetime.date(2024, 8, 15), datetime.date(2025, 2, 15), datetime.date(2024, 8, 15), datetime.date(2025, 2, 15), datetime.date(2024, 8, 15), datetime.date(2025, 2, 15), datetime.date(2024, 8, 15), datetime.date(2025, 2, 15), datetime.date(2024, 8, 15), datetime.date(2025, 2, 15), datetime.date(2024, 8, 15), datetime.date(2025, 2, 15), datetime.date(2024, 8, 15), datetime.date(2025, 2, 15), datetime.date(2024, 8, 15), datetime.date(2025, 2, 15), datetime.date(2024, 8, 15), datetime.date(2025, 2, 15), datetime.date(2024, 8, 15), datetime.date(2025, 2, 15), datetime.date(2024, 8, 15), datetime.date(2025, 2, 15)]\n"
     ]
    }
   ],
   "source": [
    "Y, M, D = issueDate.year, issueDate.month, issueDate.day\n",
    "\n",
    "cuponDates = []\n",
    "for i in range(1,(maturityPeriod*frequency) + 1):\n",
    "    try:\n",
    "        if i % 2 != 0:\n",
    "            cuponDates.append(date(Y, M+6, D))\n",
    "        else:\n",
    "            cuponDates.append(date(Y+1, M, D))\n",
    "    except ValueError:\n",
    "        cuponDates.append(date(Y+1,M,D-1))\n",
    "print(cuponDates)"
   ]
  },
  {
   "cell_type": "code",
   "execution_count": 23,
   "id": "6bb47ec6-88dc-4fe4-bfa4-8e8c308e034f",
   "metadata": {},
   "outputs": [
    {
     "name": "stdout",
     "output_type": "stream",
     "text": [
      "[180, 360, 540, 720, 900, 1080, 1260, 1440, 1620, 1800, 1980, 2160, 2340, 2520, 2700, 2880, 3060, 3240, 3420, 3600, 3780, 3960, 4140, 4320, 4500, 4680, 4860, 5040, 5220, 5400, 5580, 5760, 5940, 6120, 6300, 6480, 6660, 6840, 7020, 7200, 7380, 7560, 7740, 7920, 8100, 8280, 8460, 8640, 8820, 9000, 9180, 9360, 9540, 9720, 9900, 10080, 10260, 10440, 10620, 10800]\n"
     ]
    }
   ],
   "source": [
    "cuponDays = [180 * i for i in range(1,(maturityPeriod*frequency) + 1)]\n",
    "print(cuponDays)"
   ]
  },
  {
   "cell_type": "markdown",
   "id": "88cdb785-9382-4b73-9566-93efed98ea3e",
   "metadata": {},
   "source": [
    "## Market Data Preparation"
   ]
  },
  {
   "cell_type": "markdown",
   "id": "e24155e9-435a-472a-a7ec-56584c9b1fe7",
   "metadata": {},
   "source": [
    "#### Intrest Rate"
   ]
  },
  {
   "cell_type": "code",
   "execution_count": 27,
   "id": "2c5b4be5-0648-408f-af37-25760e4f23e2",
   "metadata": {},
   "outputs": [],
   "source": [
    "class InterestRates:\n",
    "\n",
    "    def __init__(self, Y):\n",
    "        self.Y = Y\n",
    "\n",
    "    def USTreasury(self, ratesCurve=False, COBDate=None):\n",
    "        USTreasuryData = pd.read_csv(f'https://home.treasury.gov/resource-center/data-chart-center/interest-rates/daily-treasury-rates.csv/{self.Y}/all?type=daily_treasury_yield_curve&field_tdr_date_value={self.Y}&page&_format=csv', index_col='Date').iloc[::-1]  \n",
    "        USTreasuryData.index = pd.to_datetime(USTreasuryData.index)\n",
    "        \n",
    "        if ratesCurve == True:\n",
    "            if COBDate == None:\n",
    "                return USTreasuryData[USTreasuryData.index == USTreasuryData.index.max()]\n",
    "            else:\n",
    "                return USTreasuryData[USTreasuryData.index == COBDate]\n",
    "        else:\n",
    "            return USTreasuryData"
   ]
  },
  {
   "cell_type": "code",
   "execution_count": 29,
   "id": "11339f4b-7193-4951-9dfd-25463ea00d1d",
   "metadata": {},
   "outputs": [],
   "source": [
    "spotRates = InterestRates(Y=valuationDate.year).USTreasury(ratesCurve=True, COBDate=pd.to_datetime(valuationDate))\n",
    "spotRates = pd.DataFrame(data=spotRates.values, index=spotRates.index, columns=dayCountMapping.values())"
   ]
  },
  {
   "cell_type": "code",
   "execution_count": 30,
   "id": "78c47b77-5a82-4b53-8449-c77bb016bba2",
   "metadata": {},
   "outputs": [
    {
     "data": {
      "text/html": [
       "<div>\n",
       "<style scoped>\n",
       "    .dataframe tbody tr th:only-of-type {\n",
       "        vertical-align: middle;\n",
       "    }\n",
       "\n",
       "    .dataframe tbody tr th {\n",
       "        vertical-align: top;\n",
       "    }\n",
       "\n",
       "    .dataframe thead th {\n",
       "        text-align: right;\n",
       "    }\n",
       "</style>\n",
       "<table border=\"1\" class=\"dataframe\">\n",
       "  <thead>\n",
       "    <tr style=\"text-align: right;\">\n",
       "      <th></th>\n",
       "      <th>30</th>\n",
       "      <th>60</th>\n",
       "      <th>90</th>\n",
       "      <th>120</th>\n",
       "      <th>180</th>\n",
       "      <th>360</th>\n",
       "      <th>720</th>\n",
       "      <th>1080</th>\n",
       "      <th>1800</th>\n",
       "      <th>2520</th>\n",
       "      <th>3600</th>\n",
       "      <th>7200</th>\n",
       "      <th>10800</th>\n",
       "    </tr>\n",
       "    <tr>\n",
       "      <th>Date</th>\n",
       "      <th></th>\n",
       "      <th></th>\n",
       "      <th></th>\n",
       "      <th></th>\n",
       "      <th></th>\n",
       "      <th></th>\n",
       "      <th></th>\n",
       "      <th></th>\n",
       "      <th></th>\n",
       "      <th></th>\n",
       "      <th></th>\n",
       "      <th></th>\n",
       "      <th></th>\n",
       "    </tr>\n",
       "  </thead>\n",
       "  <tbody>\n",
       "    <tr>\n",
       "      <th>2024-02-08</th>\n",
       "      <td>5.49</td>\n",
       "      <td>5.51</td>\n",
       "      <td>5.44</td>\n",
       "      <td>5.42</td>\n",
       "      <td>5.24</td>\n",
       "      <td>4.83</td>\n",
       "      <td>4.46</td>\n",
       "      <td>4.22</td>\n",
       "      <td>4.12</td>\n",
       "      <td>4.15</td>\n",
       "      <td>4.15</td>\n",
       "      <td>4.47</td>\n",
       "      <td>4.36</td>\n",
       "    </tr>\n",
       "  </tbody>\n",
       "</table>\n",
       "</div>"
      ],
      "text/plain": [
       "            30     60     90     120    180    360    720    1080   1800   \\\n",
       "Date                                                                        \n",
       "2024-02-08   5.49   5.51   5.44   5.42   5.24   4.83   4.46   4.22   4.12   \n",
       "\n",
       "            2520   3600   7200   10800  \n",
       "Date                                    \n",
       "2024-02-08   4.15   4.15   4.47   4.36  "
      ]
     },
     "execution_count": 30,
     "metadata": {},
     "output_type": "execute_result"
    }
   ],
   "source": [
    "spotRates"
   ]
  },
  {
   "cell_type": "markdown",
   "id": "00bf00fc-7784-47ab-aaa3-04575031753a",
   "metadata": {},
   "source": [
    "####  Interst Rate Determination"
   ]
  },
  {
   "cell_type": "code",
   "execution_count": 34,
   "id": "79c6cc06-23ec-4042-9ce3-c5b037141dea",
   "metadata": {},
   "outputs": [
    {
     "name": "stdout",
     "output_type": "stream",
     "text": [
      "Index([0.08333333333333333, 0.16666666666666666,                0.25,\n",
      "        0.3333333333333333,                 0.5,                 1.0,\n",
      "                       2.0,                 3.0,                 5.0,\n",
      "                       7.0,                10.0,                20.0,\n",
      "                      30.0],\n",
      "      dtype='float64') [0.0549 0.0551 0.0544 0.0542 0.0524 0.0483 0.0446 0.0422 0.0412 0.0415\n",
      " 0.0415 0.0447 0.0436]\n"
     ]
    }
   ],
   "source": [
    "tenors , interestRates = spotRates.columns/360 , spotRates.values[0]/100\n",
    "print(tenors, interestRates)"
   ]
  },
  {
   "cell_type": "code",
   "execution_count": 36,
   "id": "c3a7bbf4-729e-4c97-b624-4589b54d18fa",
   "metadata": {},
   "outputs": [
    {
     "name": "stdout",
     "output_type": "stream",
     "text": [
      "[0.0524     0.0483     0.04615596 0.0446     0.04326031 0.0422\n",
      " 0.0415442  0.04123122 0.04115262 0.0412     0.04128086 0.04136641\n",
      " 0.04144375 0.0415     0.04152611 0.04152834 0.04151677 0.04150146\n",
      " 0.04149251 0.0415     0.04153201 0.04158867 0.04166813 0.0417685\n",
      " 0.04188794 0.04202458 0.04217656 0.04234201 0.04251906 0.04270587\n",
      " 0.04290055 0.04310126 0.04330612 0.04351327 0.04372085 0.043927\n",
      " 0.04412986 0.04432755 0.04451822 0.0447     0.04487103 0.04502945\n",
      " 0.04517339 0.045301   0.0454104  0.04549973 0.04556713 0.04561074\n",
      " 0.0456287  0.04561913 0.04558019 0.04550999 0.04540669 0.04526842\n",
      " 0.04509331 0.0448795  0.04462512 0.04432833 0.04398724 0.0436    ]\n"
     ]
    }
   ],
   "source": [
    "interpfunction = interpolate.CubicSpline(x= tenors, y= interestRates)\n",
    "tenorsInterp = [t/360 for t in cuponDays]\n",
    "interpolatedRates = interpfunction(tenorsInterp)\n",
    "print(interpolatedRates)"
   ]
  },
  {
   "cell_type": "markdown",
   "id": "7c28d974-15ea-4b73-99e4-8ca8dc1e2589",
   "metadata": {},
   "source": [
    "### Pricing Model"
   ]
  },
  {
   "cell_type": "markdown",
   "id": "ecba9f93-3df3-436d-a594-11e3ca66f725",
   "metadata": {},
   "source": [
    "#### Discount Cashflow (DCF) Approach"
   ]
  },
  {
   "cell_type": "code",
   "execution_count": 40,
   "id": "d4779473-e01b-42a2-825a-92a2fe087d35",
   "metadata": {},
   "outputs": [
    {
     "name": "stdout",
     "output_type": "stream",
     "text": [
      "[2.125, 2.125, 2.125, 2.125, 2.125, 2.125, 2.125, 2.125, 2.125, 2.125, 2.125, 2.125, 2.125, 2.125, 2.125, 2.125, 2.125, 2.125, 2.125, 2.125, 2.125, 2.125, 2.125, 2.125, 2.125, 2.125, 2.125, 2.125, 2.125, 2.125, 2.125, 2.125, 2.125, 2.125, 2.125, 2.125, 2.125, 2.125, 2.125, 2.125, 2.125, 2.125, 2.125, 2.125, 2.125, 2.125, 2.125, 2.125, 2.125, 2.125, 2.125, 2.125, 2.125, 2.125, 2.125, 2.125, 2.125, 2.125, 2.125, 102.125]\n"
     ]
    }
   ],
   "source": [
    "futurevalueCF = [faceValue*(cuponRate/frequency) for t in range(1,(maturityPeriod*frequency)+1)]\n",
    "futurevalueCF[-1] += faceValue\n",
    "print(futurevalueCF)"
   ]
  },
  {
   "cell_type": "code",
   "execution_count": 42,
   "id": "1755c15f-b611-4a4a-b286-aa26d5fa3ec8",
   "metadata": {},
   "outputs": [
    {
     "name": "stdout",
     "output_type": "stream",
     "text": [
      "[0.05308643999999996, 0.04888322249999977, 0.0466885495112519, 0.04509728999999996, 0.04372817411548313, 0.04264520999999988, 0.041975683681502396, 0.04165621848587353, 0.0415760038621511, 0.041624359999999916, 0.041706891072823105, 0.041794200984497376, 0.041873141507501765, 0.04193056250000016, 0.04195721934090524, 0.04195949400742505, 0.041947676003363465, 0.04193205507499731, 0.04192292076926063, 0.04193056250000016, 0.0419632381799262, 0.04202107896924834, 0.042102184873221704, 0.04220465642421556, 0.042326594478083734, 0.042466100027893416, 0.04262127403501448, 0.0427902172775656, 0.04297103021622051, 0.04316181287737342, 0.04336066475366129, 0.043565684721849074, 0.043774970978068595, 0.04398662099042028, 0.04419873146893094, 0.044409398352875495, 0.04461671681544788, 0.04481878128580408, 0.04501368548844997, 0.045199522500000144, 0.04537438482328682, 0.045536364478834246, 0.04568355311368544, 0.04581404212759432, 0.045925922816571596, 0.046017286533792445, 0.046086224867862624, 0.046130829838441745, 0.046149194109227576, 0.04613941121829801, 0.046099575825812034, 0.04602778397907059, 0.04592213339493423, 0.04578072375960196, 0.045601657045747146, 0.045383037847013474, 0.04512297372986773, 0.04481957560281691, 0.04447095810297541, 0.04407524000000018]\n"
     ]
    }
   ],
   "source": [
    "annualizedRate = [(1+i/frequency)**frequency -1 for i in interpolatedRates]\n",
    "print(annualizedRate)"
   ]
  },
  {
   "cell_type": "code",
   "execution_count": 44,
   "id": "a3d66a21-2a33-4e9e-b2e3-16000be50259",
   "metadata": {},
   "outputs": [
    {
     "name": "stdout",
     "output_type": "stream",
     "text": [
      "98.14680544684727 [2.070746443188462, 2.025964334652136, 1.9844160213499322, 1.945563863662673, 1.9093714183128403, 1.8747755337081196, 1.840167644043773, 1.8049338546873814, 1.7690886153540508, 1.733018881424793, 1.6972994883756116, 1.6621389259320067, 1.6276553808729761, 1.5939969793133788, 1.5612942987030816, 1.5295097332644576, 1.4985412306432158, 1.4682646421483978, 1.4385362512636777, 1.4091952235817276, 1.3800943198337459, 1.3511929991330216, 1.3224839508911195, 1.2939658775992628, 1.2656429381740035, 1.2375242011250982, 1.209623108196498, 1.1819569497702729, 1.1545463538343461, 1.127414790703562, 1.1005880959554109, 1.074094014204098, 1.047961766398356, 1.022221643298731, 0.9969046276811806, 0.9720420476365802, 0.947665263104556, 0.9238053875067775, 0.9004930460455269, 0.8777581719194386, 0.8556298413960826, 0.8341361483817453, 0.8133041188568955, 0.7931596653121649, 0.7737275811369252, 0.7550315747903912, 0.7370943435344488, 0.7199376865376111, 0.703582657280112, 0.6880497554115205, 0.6733591585443335, 0.6595309949224025, 0.6465856584956106, 0.6345441686788833, 0.6234285779961707, 0.6132624319348997, 0.604071286697965, 0.5958832921816821, 0.5887298494854416, 28.001298337777694]\n"
     ]
    }
   ],
   "source": [
    "presentValueCF = [futurevalueCF[i]/(1+interpolatedRates[i]/frequency) ** (i+1) for i in range(maturityPeriod*frequency)]\n",
    "bondPrice = sum(presentValueCF)\n",
    "print(bondPrice,presentValueCF)"
   ]
  },
  {
   "cell_type": "markdown",
   "id": "16403df2-fe46-46a9-8dc8-6c61c61be5f0",
   "metadata": {},
   "source": [
    "#### Model Error"
   ]
  },
  {
   "cell_type": "code",
   "execution_count": 47,
   "id": "11109d68-cc84-423f-addb-baaa9b8e9807",
   "metadata": {},
   "outputs": [
    {
     "name": "stdout",
     "output_type": "stream",
     "text": [
      "Model Price: 98.14680544684727\n",
      "Market Price: 98.168819\n",
      "Price Difference: -0.022\n"
     ]
    }
   ],
   "source": [
    "print('Model Price:',bondPrice)\n",
    "print('Market Price:',issuePrice)\n",
    "\n",
    "priceDiff = bondPrice-issuePrice\n",
    "print('Price Difference:', round(priceDiff,4))"
   ]
  },
  {
   "cell_type": "code",
   "execution_count": 49,
   "id": "74020865-d254-4444-9f8e-f8f647dbb3c2",
   "metadata": {},
   "outputs": [],
   "source": [
    "pricingResult =pd.Series({\"Model Price\":bondPrice,\"Issue Price\":issuePrice,\"Price Difference\":priceDiff})"
   ]
  },
  {
   "cell_type": "code",
   "execution_count": 53,
   "id": "0258f2d4-4784-477b-b438-9b821ab71e91",
   "metadata": {},
   "outputs": [],
   "source": [
    "pricingResult.to_csv(f\"C:\\\\Users\\\\dines\\\\Desktop\\\\Market Risk Project\\\\{maturityPeriod}Y US Treasury {instrumentType}_{CUSIP}\\\\Pricing RESULTS for {CUSIP}.csv\")"
   ]
  },
  {
   "cell_type": "code",
   "execution_count": null,
   "id": "6beeb9c9-f7b0-4750-b6b7-006beb99aea9",
   "metadata": {},
   "outputs": [],
   "source": []
  }
 ],
 "metadata": {
  "kernelspec": {
   "display_name": "Python [conda env:base] *",
   "language": "python",
   "name": "conda-base-py"
  },
  "language_info": {
   "codemirror_mode": {
    "name": "ipython",
    "version": 3
   },
   "file_extension": ".py",
   "mimetype": "text/x-python",
   "name": "python",
   "nbconvert_exporter": "python",
   "pygments_lexer": "ipython3",
   "version": "3.12.7"
  }
 },
 "nbformat": 4,
 "nbformat_minor": 5
}
