{
 "cells": [
  {
   "cell_type": "markdown",
   "id": "78a25a3e-8306-4913-b346-28c14dc63a2b",
   "metadata": {},
   "source": [
    "## Fixed-Income Pricing Model Delovpment And Validation \n",
    "\n",
    "### Pricing Model: DCF | Asset Class: Fixed Income | Finacial Product: US Treasury Bond"
   ]
  },
  {
   "cell_type": "markdown",
   "id": "6964c657-7583-44ba-a7e2-c712c009b16c",
   "metadata": {},
   "source": [
    "#### Import Liabaries"
   ]
  },
  {
   "cell_type": "code",
   "execution_count": 3,
   "id": "bfbb0c90-6086-49fd-b8fa-360fac91b5b4",
   "metadata": {},
   "outputs": [],
   "source": [
    "import pandas as pd\n",
    "import numpy as np\n",
    "from scipy import interpolate\n",
    "import matplotlib.pyplot as plt\n",
    "from datetime import date, timedelta"
   ]
  },
  {
   "cell_type": "code",
   "execution_count": 5,
   "id": "4a40a305-41ad-4ffb-aa24-7c49039355cb",
   "metadata": {},
   "outputs": [],
   "source": [
    "dayCountMapping = {'1 Mo': 30, '2 Mo': 60, '3 Mo': 90, '4 Mo': 120, '6 Mo': 180, '1 Yr': 360, \n",
    "                   '2 Yr': 720, '3 Yr': 1080, '5 Yr': 1800, '7 Yr': 2520, '10 Yr': 3600, '20 Yr': 7200, '30 Yr': 10800}"
   ]
  },
  {
   "cell_type": "markdown",
   "id": "1e35e530-b5b2-4699-a935-9613acbea713",
   "metadata": {},
   "source": [
    "#### Instrument Trade Data"
   ]
  },
  {
   "cell_type": "code",
   "execution_count": 10,
   "id": "41f8fbf7-0e8e-413e-a79a-b0db7a51213b",
   "metadata": {},
   "outputs": [],
   "source": [
    "trade_data = pd.read_csv(\"C:\\\\Users\\\\dines\\\\Desktop\\\\Market Risk Project\\\\10Y US Treasury Note_91282CJZ5\\\\Script 91282CJZ5.csv\",index_col=\"CUSIP\")"
   ]
  },
  {
   "cell_type": "code",
   "execution_count": 12,
   "id": "517f234b-31a1-4203-9963-fb0aa68eff52",
   "metadata": {},
   "outputs": [
    {
     "data": {
      "text/html": [
       "<div>\n",
       "<style scoped>\n",
       "    .dataframe tbody tr th:only-of-type {\n",
       "        vertical-align: middle;\n",
       "    }\n",
       "\n",
       "    .dataframe tbody tr th {\n",
       "        vertical-align: top;\n",
       "    }\n",
       "\n",
       "    .dataframe thead th {\n",
       "        text-align: right;\n",
       "    }\n",
       "</style>\n",
       "<table border=\"1\" class=\"dataframe\">\n",
       "  <thead>\n",
       "    <tr style=\"text-align: right;\">\n",
       "      <th></th>\n",
       "      <th>Security Type</th>\n",
       "      <th>Security Term</th>\n",
       "      <th>Auction Date</th>\n",
       "      <th>Issue Date</th>\n",
       "      <th>Maturity Date</th>\n",
       "      <th>Price per $100</th>\n",
       "    </tr>\n",
       "    <tr>\n",
       "      <th>CUSIP</th>\n",
       "      <th></th>\n",
       "      <th></th>\n",
       "      <th></th>\n",
       "      <th></th>\n",
       "      <th></th>\n",
       "      <th></th>\n",
       "    </tr>\n",
       "  </thead>\n",
       "  <tbody>\n",
       "    <tr>\n",
       "      <th>91282CJZ5</th>\n",
       "      <td>Note</td>\n",
       "      <td>9-Year 11-Month</td>\n",
       "      <td>03/12/2024</td>\n",
       "      <td>03/15/2024</td>\n",
       "      <td>02/15/2034</td>\n",
       "      <td>98.656761</td>\n",
       "    </tr>\n",
       "    <tr>\n",
       "      <th>91282CJZ5</th>\n",
       "      <td>Note</td>\n",
       "      <td>10-Year</td>\n",
       "      <td>02/07/2024</td>\n",
       "      <td>02/15/2024</td>\n",
       "      <td>02/15/2034</td>\n",
       "      <td>99.243059</td>\n",
       "    </tr>\n",
       "  </tbody>\n",
       "</table>\n",
       "</div>"
      ],
      "text/plain": [
       "          Security Type    Security Term Auction Date  Issue Date  \\\n",
       "CUSIP                                                               \n",
       "91282CJZ5          Note  9-Year 11-Month   03/12/2024  03/15/2024   \n",
       "91282CJZ5          Note          10-Year   02/07/2024  02/15/2024   \n",
       "\n",
       "          Maturity Date  Price per $100  \n",
       "CUSIP                                    \n",
       "91282CJZ5    02/15/2034       98.656761  \n",
       "91282CJZ5    02/15/2034       99.243059  "
      ]
     },
     "execution_count": 12,
     "metadata": {},
     "output_type": "execute_result"
    }
   ],
   "source": [
    "trade_data"
   ]
  },
  {
   "cell_type": "markdown",
   "id": "db628132-116c-4f1b-bf46-306e5936fea3",
   "metadata": {},
   "source": [
    "#### Insturment Features"
   ]
  },
  {
   "cell_type": "code",
   "execution_count": 83,
   "id": "18e0a24c-6d93-427e-bc98-9fea80fb6c38",
   "metadata": {},
   "outputs": [],
   "source": [
    "CUSIP=trade_data.index[-1]\n",
    "faceValue = 100\n",
    "cuponRate = 0.04\n",
    "maturityPeriod = 10\n",
    "frequency = 2\n",
    "auctionDate = pd.to_datetime(trade_data['Auction Date'].values[-1]).date()\n",
    "issueDate = pd.to_datetime(trade_data['Issue Date'].values[-1]).date()\n",
    "maturityDate = pd.to_datetime(trade_data['Maturity Date'].values[-1]).date()\n",
    "issuePrice = trade_data['Price per $100'].values[-1]"
   ]
  },
  {
   "cell_type": "code",
   "execution_count": 30,
   "id": "32e31f01-9841-4daa-85e2-48e0986a0c0d",
   "metadata": {},
   "outputs": [],
   "source": [
    "valuationDate = auctionDate"
   ]
  },
  {
   "cell_type": "markdown",
   "id": "f8cffb98-67fc-4b34-b7fd-5b75118cb482",
   "metadata": {},
   "source": [
    "#### Coupon Dates"
   ]
  },
  {
   "cell_type": "code",
   "execution_count": 33,
   "id": "39116853-40df-450b-8519-5555734c04a9",
   "metadata": {},
   "outputs": [
    {
     "name": "stdout",
     "output_type": "stream",
     "text": [
      "[datetime.date(2024, 8, 15), datetime.date(2025, 2, 15), datetime.date(2024, 8, 15), datetime.date(2025, 2, 15), datetime.date(2024, 8, 15), datetime.date(2025, 2, 15), datetime.date(2024, 8, 15), datetime.date(2025, 2, 15), datetime.date(2024, 8, 15), datetime.date(2025, 2, 15), datetime.date(2024, 8, 15), datetime.date(2025, 2, 15), datetime.date(2024, 8, 15), datetime.date(2025, 2, 15), datetime.date(2024, 8, 15), datetime.date(2025, 2, 15), datetime.date(2024, 8, 15), datetime.date(2025, 2, 15), datetime.date(2024, 8, 15), datetime.date(2025, 2, 15)]\n"
     ]
    }
   ],
   "source": [
    "Y, M, D = issueDate.year, issueDate.month, issueDate.day\n",
    "\n",
    "cuponDates = []\n",
    "for i in range(1,(maturityPeriod*frequency) + 1):\n",
    "    if i % 2 != 0:\n",
    "        cuponDates.append(date(Y, M+6, D))\n",
    "    else:\n",
    "        cuponDates.append(date(Y+1, M, D))\n",
    "\n",
    "print(cuponDates)"
   ]
  },
  {
   "cell_type": "code",
   "execution_count": 41,
   "id": "6bb47ec6-88dc-4fe4-bfa4-8e8c308e034f",
   "metadata": {},
   "outputs": [
    {
     "name": "stdout",
     "output_type": "stream",
     "text": [
      "[180, 360, 540, 720, 900, 1080, 1260, 1440, 1620, 1800, 1980, 2160, 2340, 2520, 2700, 2880, 3060, 3240, 3420, 3600]\n"
     ]
    }
   ],
   "source": [
    "cuponDays = [180 * i for i in range(1,(maturityPeriod*frequency) + 1)]\n",
    "print(cuponDays)"
   ]
  },
  {
   "cell_type": "markdown",
   "id": "88cdb785-9382-4b73-9566-93efed98ea3e",
   "metadata": {},
   "source": [
    "## Market Data Preparation"
   ]
  },
  {
   "cell_type": "markdown",
   "id": "e24155e9-435a-472a-a7ec-56584c9b1fe7",
   "metadata": {},
   "source": [
    "#### Intrest Rate"
   ]
  },
  {
   "cell_type": "code",
   "execution_count": 45,
   "id": "2c5b4be5-0648-408f-af37-25760e4f23e2",
   "metadata": {},
   "outputs": [],
   "source": [
    "class InterestRates:\n",
    "\n",
    "    def __init__(self, Y):\n",
    "        self.Y = Y\n",
    "\n",
    "    def USTreasury(self, ratesCurve=False, COBDate=None):\n",
    "        USTreasuryData = pd.read_csv(f'https://home.treasury.gov/resource-center/data-chart-center/interest-rates/daily-treasury-rates.csv/{self.Y}/all?type=daily_treasury_yield_curve&field_tdr_date_value={self.Y}&page&_format=csv', index_col='Date').iloc[::-1]  \n",
    "        USTreasuryData.index = pd.to_datetime(USTreasuryData.index)\n",
    "        \n",
    "        if ratesCurve == True:\n",
    "            if COBDate == None:\n",
    "                return USTreasuryData[USTreasuryData.index == USTreasuryData.index.max()]\n",
    "            else:\n",
    "                return USTreasuryData[USTreasuryData.index == COBDate]\n",
    "        else:\n",
    "            return USTreasuryData"
   ]
  },
  {
   "cell_type": "code",
   "execution_count": 51,
   "id": "11339f4b-7193-4951-9dfd-25463ea00d1d",
   "metadata": {},
   "outputs": [],
   "source": [
    "spotRates = InterestRates(Y=valuationDate.year).USTreasury(ratesCurve=True, COBDate=pd.to_datetime(valuationDate))\n",
    "spotRates = pd.DataFrame(data=spotRates.values, index=spotRates.index, columns=dayCountMapping.values())"
   ]
  },
  {
   "cell_type": "code",
   "execution_count": 53,
   "id": "78c47b77-5a82-4b53-8449-c77bb016bba2",
   "metadata": {},
   "outputs": [
    {
     "data": {
      "text/html": [
       "<div>\n",
       "<style scoped>\n",
       "    .dataframe tbody tr th:only-of-type {\n",
       "        vertical-align: middle;\n",
       "    }\n",
       "\n",
       "    .dataframe tbody tr th {\n",
       "        vertical-align: top;\n",
       "    }\n",
       "\n",
       "    .dataframe thead th {\n",
       "        text-align: right;\n",
       "    }\n",
       "</style>\n",
       "<table border=\"1\" class=\"dataframe\">\n",
       "  <thead>\n",
       "    <tr style=\"text-align: right;\">\n",
       "      <th></th>\n",
       "      <th>30</th>\n",
       "      <th>60</th>\n",
       "      <th>90</th>\n",
       "      <th>120</th>\n",
       "      <th>180</th>\n",
       "      <th>360</th>\n",
       "      <th>720</th>\n",
       "      <th>1080</th>\n",
       "      <th>1800</th>\n",
       "      <th>2520</th>\n",
       "      <th>3600</th>\n",
       "      <th>7200</th>\n",
       "      <th>10800</th>\n",
       "    </tr>\n",
       "    <tr>\n",
       "      <th>Date</th>\n",
       "      <th></th>\n",
       "      <th></th>\n",
       "      <th></th>\n",
       "      <th></th>\n",
       "      <th></th>\n",
       "      <th></th>\n",
       "      <th></th>\n",
       "      <th></th>\n",
       "      <th></th>\n",
       "      <th></th>\n",
       "      <th></th>\n",
       "      <th></th>\n",
       "      <th></th>\n",
       "    </tr>\n",
       "  </thead>\n",
       "  <tbody>\n",
       "    <tr>\n",
       "      <th>2024-02-07</th>\n",
       "      <td>5.47</td>\n",
       "      <td>5.49</td>\n",
       "      <td>5.43</td>\n",
       "      <td>5.4</td>\n",
       "      <td>5.23</td>\n",
       "      <td>4.83</td>\n",
       "      <td>4.41</td>\n",
       "      <td>4.16</td>\n",
       "      <td>4.06</td>\n",
       "      <td>4.09</td>\n",
       "      <td>4.09</td>\n",
       "      <td>4.41</td>\n",
       "      <td>4.31</td>\n",
       "    </tr>\n",
       "  </tbody>\n",
       "</table>\n",
       "</div>"
      ],
      "text/plain": [
       "            30     60     90     120    180    360    720    1080   1800   \\\n",
       "Date                                                                        \n",
       "2024-02-07   5.47   5.49   5.43    5.4   5.23   4.83   4.41   4.16   4.06   \n",
       "\n",
       "            2520   3600   7200   10800  \n",
       "Date                                    \n",
       "2024-02-07   4.09   4.09   4.41   4.31  "
      ]
     },
     "execution_count": 53,
     "metadata": {},
     "output_type": "execute_result"
    }
   ],
   "source": [
    "spotRates"
   ]
  },
  {
   "cell_type": "markdown",
   "id": "00bf00fc-7784-47ab-aaa3-04575031753a",
   "metadata": {},
   "source": [
    "####  Interst Rate Determination"
   ]
  },
  {
   "cell_type": "code",
   "execution_count": 56,
   "id": "79c6cc06-23ec-4042-9ce3-c5b037141dea",
   "metadata": {},
   "outputs": [
    {
     "name": "stdout",
     "output_type": "stream",
     "text": [
      "Index([0.08333333333333333, 0.16666666666666666,                0.25,\n",
      "        0.3333333333333333,                 0.5,                 1.0,\n",
      "                       2.0,                 3.0,                 5.0,\n",
      "                       7.0,                10.0,                20.0,\n",
      "                      30.0],\n",
      "      dtype='float64') [0.0547 0.0549 0.0543 0.054  0.0523 0.0483 0.0441 0.0416 0.0406 0.0409\n",
      " 0.0409 0.0441 0.0431]\n"
     ]
    }
   ],
   "source": [
    "tenors , interestRates = spotRates.columns/360 , spotRates.values[0]/100\n",
    "print(tenors, interestRates)"
   ]
  },
  {
   "cell_type": "code",
   "execution_count": 62,
   "id": "c3a7bbf4-729e-4c97-b624-4589b54d18fa",
   "metadata": {},
   "outputs": [
    {
     "name": "stdout",
     "output_type": "stream",
     "text": [
      "[0.0523     0.0483     0.04590211 0.0441     0.04266305 0.0416\n",
      " 0.04095041 0.04063765 0.04055607 0.0406     0.04067914 0.04076456\n",
      " 0.0408427  0.0409     0.04092684 0.04092941 0.04091787 0.04090235\n",
      " 0.04089301 0.0409    ]\n"
     ]
    }
   ],
   "source": [
    "interpfunction = interpolate.CubicSpline(x= tenors, y= interestRates)\n",
    "tenorsInterp = [t/360 for t in cuponDays]\n",
    "interpolatedRates = interpfunction(tenorsInterp)\n",
    "print(interpolatedRates)"
   ]
  },
  {
   "cell_type": "markdown",
   "id": "7c28d974-15ea-4b73-99e4-8ca8dc1e2589",
   "metadata": {},
   "source": [
    "### Pricing Model"
   ]
  },
  {
   "cell_type": "markdown",
   "id": "ecba9f93-3df3-436d-a594-11e3ca66f725",
   "metadata": {},
   "source": [
    "#### Discount Cashflow (DCF) Approach"
   ]
  },
  {
   "cell_type": "code",
   "execution_count": 68,
   "id": "d4779473-e01b-42a2-825a-92a2fe087d35",
   "metadata": {},
   "outputs": [
    {
     "name": "stdout",
     "output_type": "stream",
     "text": [
      "[2.0, 2.0, 2.0, 2.0, 2.0, 2.0, 2.0, 2.0, 2.0, 2.0, 2.0, 2.0, 2.0, 2.0, 2.0, 2.0, 2.0, 2.0, 2.0, 102.0]\n"
     ]
    }
   ],
   "source": [
    "futurevalueCF = [faceValue*(cuponRate/frequency) for t in range(1,(maturityPeriod*frequency)+1)]\n",
    "futurevalueCF[-1] += faceValue\n",
    "print(futurevalueCF)"
   ]
  },
  {
   "cell_type": "code",
   "execution_count": 72,
   "id": "1755c15f-b611-4a4a-b286-aa26d5fa3ec8",
   "metadata": {},
   "outputs": [
    {
     "name": "stdout",
     "output_type": "stream",
     "text": [
      "[0.05298382249999989, 0.04888322249999977, 0.046428859862901906, 0.044586202499999894, 0.04311808149863272, 0.042032639999999954, 0.041369640831615984, 0.04105050425503154, 0.04096726619813151, 0.041012089999999946, 0.04109283336061953, 0.04117999539754358, 0.04125973337257505, 0.04131820250000007, 0.041345590031032, 0.041348216341630106, 0.04133643600516024, 0.041320603854411164, 0.04131107452273519, 0.04131820250000007]\n"
     ]
    }
   ],
   "source": [
    "annualizedRate = [(1+i/frequency)**frequency -1 for i in interpolatedRates]\n",
    "print(annualizedRate)"
   ]
  },
  {
   "cell_type": "code",
   "execution_count": 76,
   "id": "a3d66a21-2a33-4e9e-b2e3-16000be50259",
   "metadata": {},
   "outputs": [
    {
     "name": "stdout",
     "output_type": "stream",
     "text": [
      "99.21523506308216 [1.9490327924767337, 1.9067899620255395, 1.8683809586480165, 1.832911201818863, 1.7996842326717282, 1.767608280580518, 1.7354527820962062, 1.7027182866762691, 1.669410600034037, 1.6358788184233342, 1.6026473976572733, 1.569911259250721, 1.5377863942761938, 1.506418967985966, 1.4759389001919925, 1.446312620053649, 1.4174441231694133, 1.3892162085359026, 1.3614928569001636, 68.04019841960964]\n"
     ]
    }
   ],
   "source": [
    "presentValueCF = [futurevalueCF[i]/(1+interpolatedRates[i]/frequency) ** (i+1) for i in range(maturityPeriod*frequency)]\n",
    "bondPrice = sum(presentValueCF)\n",
    "print(bondPrice,presentValueCF)"
   ]
  },
  {
   "cell_type": "markdown",
   "id": "16403df2-fe46-46a9-8dc8-6c61c61be5f0",
   "metadata": {},
   "source": [
    "#### Model Error"
   ]
  },
  {
   "cell_type": "code",
   "execution_count": 79,
   "id": "11109d68-cc84-423f-addb-baaa9b8e9807",
   "metadata": {},
   "outputs": [
    {
     "name": "stdout",
     "output_type": "stream",
     "text": [
      "Model Price: 99.21523506308216\n",
      "Market Price: 99.243059\n",
      "Price Difference: -0.0278\n"
     ]
    }
   ],
   "source": [
    "print('Model Price:',bondPrice)\n",
    "print('Market Price:',issuePrice)\n",
    "\n",
    "priceDiff = bondPrice-issuePrice\n",
    "print('Price Difference:', round(priceDiff,4))"
   ]
  },
  {
   "cell_type": "code",
   "execution_count": 81,
   "id": "67c4b28d-5486-485b-b120-d1a24cd1c71c",
   "metadata": {},
   "outputs": [],
   "source": [
    "pricingResult =pd.Series({\"Model Price\":bondPrice,\"Issue Price\":issuePrice,\"Price Difference\":priceDiff})"
   ]
  },
  {
   "cell_type": "code",
   "execution_count": 85,
   "id": "7e4c2fca-fe11-47ae-9580-11f404d95d4c",
   "metadata": {},
   "outputs": [],
   "source": [
    "pricingResult.to_csv(f\"C:\\\\Users\\\\dines\\\\Desktop\\\\Market Risk Project\\\\{maturityPeriod}Y US Treasury Note_{CUSIP}\\\\Pricing RESULTS for {CUSIP}.csv\")"
   ]
  }
 ],
 "metadata": {
  "kernelspec": {
   "display_name": "Python [conda env:base] *",
   "language": "python",
   "name": "conda-base-py"
  },
  "language_info": {
   "codemirror_mode": {
    "name": "ipython",
    "version": 3
   },
   "file_extension": ".py",
   "mimetype": "text/x-python",
   "name": "python",
   "nbconvert_exporter": "python",
   "pygments_lexer": "ipython3",
   "version": "3.12.7"
  }
 },
 "nbformat": 4,
 "nbformat_minor": 5
}
